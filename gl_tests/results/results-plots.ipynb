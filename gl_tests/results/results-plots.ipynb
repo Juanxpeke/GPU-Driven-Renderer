{
 "cells": [
  {
   "cell_type": "markdown",
   "id": "d10bd96f",
   "metadata": {},
   "source": [
    "# Results processing notebook"
   ]
  },
  {
   "cell_type": "code",
   "execution_count": 157,
   "id": "6c1437f4",
   "metadata": {},
   "outputs": [],
   "source": [
    "import os\n",
    "import re\n",
    "import numpy as np\n",
    "import pandas as pd\n",
    "from matplotlib import pyplot as plt"
   ]
  },
  {
   "cell_type": "code",
   "execution_count": 166,
   "id": "b7ada0ad",
   "metadata": {},
   "outputs": [],
   "source": [
    "\"\"\"\n",
    "projects =\n",
    "{\n",
    "    #project\n",
    "    'p_de': {\n",
    "        #data\n",
    "        'FPS': 90, ...\n",
    "    }, ...\n",
    "}\n",
    "\"\"\"\n",
    "\n",
    "projects = {}"
   ]
  },
  {
   "cell_type": "markdown",
   "id": "fcb2a2d9",
   "metadata": {},
   "source": [
    "### Encontrar los archivos y llamar a la función"
   ]
  },
  {
   "cell_type": "code",
   "execution_count": 167,
   "id": "c805baed",
   "metadata": {
    "scrolled": true
   },
   "outputs": [
    {
     "name": "stdout",
     "output_type": "stream",
     "text": [
      "{'different_particles_multi_draw_elements': {'FPS': 120.9454761, 'Time': 10.0987}, 'different_particles_multi_draw_elements_indirect': {'FPS': 243.07089499999998, 'Time': 5.28391}, 'particle_draw_elements': {'FPS': 21.7365219, 'Time': 53.3202}, 'particle_draw_elements_instanced': {'FPS': 237.71980100000002, 'Time': 5.38601}, 'particle_multi_draw_elements': {'FPS': 121.83695780000001, 'Time': 9.99386}, 'particle_multi_draw_elements_indirect': {'FPS': 242.085975, 'Time': 5.32315}}\n"
     ]
    }
   ],
   "source": [
    "results_folders = os.listdir('./')\n",
    "\n",
    "for result_folder in results_folders:\n",
    "\n",
    "    if '.' in result_folder:\n",
    "        continue\n",
    "        \n",
    "    projects[result_folder] = {}\n",
    "\n",
    "    result_files = os.listdir('./' + result_folder)\n",
    "    \n",
    "    for result_file in result_files:\n",
    "        \n",
    "        if not '.csv' in result_file:\n",
    "            continue\n",
    "\n",
    "        file_path = os.path.join('./' + result_folder, result_file)\n",
    "        data_name = result_file.split('.')[0]\n",
    "        \n",
    "        df = pd.read_csv(file_path, header=None)\n",
    "        \n",
    "        value = 0\n",
    "        if data_name == 'FPS':\n",
    "            value = df.iloc[:, 0].mean()\n",
    "        else:\n",
    "            value = df.iloc[-1, 0]\n",
    "        \n",
    "        projects[result_folder][data_name] = value\n",
    "    \n",
    "print(projects)"
   ]
  },
  {
   "cell_type": "markdown",
   "id": "c32811bf",
   "metadata": {},
   "source": [
    "### Plotting"
   ]
  },
  {
   "cell_type": "code",
   "execution_count": 169,
   "id": "1db42811",
   "metadata": {},
   "outputs": [],
   "source": [
    "def to_camel_case(string):\n",
    "    if 'cles' in string and 'indirect' in string:\n",
    "        return 'MultiDrawElementsIndirect (Varied)'\n",
    "    if 'cles' in string:\n",
    "        return 'MultiDrawElements (Varied)'\n",
    "    return ''.join(word.capitalize() for word in string.split('_'))"
   ]
  },
  {
   "cell_type": "code",
   "execution_count": 175,
   "id": "c848c856",
   "metadata": {},
   "outputs": [
    {
     "data": {
      "image/png": "[encoded data removed]",
      "text/plain": [
       "<Figure size 1200x400 with 1 Axes>"
      ]
     },
     "metadata": {},
     "output_type": "display_data"
    }
   ],
   "source": [
    "# Extract project names and corresponding FPS values\n",
    "project_names = [to_camel_case(p[9:]) for p in list(projects.keys())]\n",
    "\n",
    "project_names = filter(lambda p: 'Varied' in p, project_names)\n",
    "\n",
    "fps_values = [project['FPS'] for project in projects.values()]\n",
    "\n",
    "# Sort projects based on FPS values (from fastest to slowest)\n",
    "sorted_projects = sorted(zip(project_names, fps_values), key=lambda x: x[1], reverse=True)\n",
    "project_names, fps_values = zip(*sorted_projects)\n",
    "\n",
    "# Round FPS values to two decimal places\n",
    "fps_values = [round(value, 1) for value in fps_values]\n",
    "\n",
    "# Use a colormap for different colors\n",
    "colors = plt.cm.viridis(np.linspace(0, 1, len(project_names)))\n",
    "\n",
    "# Plotting the horizontal bar chart for FPS\n",
    "fig, ax = plt.subplots(figsize=(12, 4))\n",
    "\n",
    "bars = ax.barh(project_names, fps_values, color='#76b900')\n",
    "ax.set_xlabel('FPS')\n",
    "ax.set_title('Draw calls average FPS')\n",
    "\n",
    "# Adding labels to each bar\n",
    "for bar, value in zip(bars, fps_values):\n",
    "    ax.text(bar.get_width() + 1, bar.get_y() + bar.get_height() / 2, f'{value}', va='center')\n",
    "\n",
    "# Adjust x-axis limits to prevent wider bars from going beyond the chart\n",
    "ax.set_xlim(0, max(fps_values) + 25)\n",
    "\n",
    "plt.show()\n",
    "\n",
    "#fig.savefig('fps_comparison.jpg')"
   ]
  },
  {
   "cell_type": "code",
   "execution_count": null,
   "id": "e33c882d",
   "metadata": {},
   "outputs": [],
   "source": []
  }
 ],
 "metadata": {
  "kernelspec": {
   "display_name": "Python 3 (ipykernel)",
   "language": "python",
   "name": "python3"
  },
  "language_info": {
   "codemirror_mode": {
    "name": "ipython",
    "version": 3
   },
   "file_extension": ".py",
   "mimetype": "text/x-python",
   "name": "python",
   "nbconvert_exporter": "python",
   "pygments_lexer": "ipython3",
   "version": "3.9.2"
  }
 },
 "nbformat": 4,
 "nbformat_minor": 5
}
